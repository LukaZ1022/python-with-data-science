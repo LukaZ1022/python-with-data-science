{
 "cells": [
  {
   "cell_type": "markdown",
   "id": "24ad1111-3fdb-4fbb-886f-253e1dbb67b9",
   "metadata": {},
   "source": [
    "# Jupyter NoteBook Intro"
   ]
  },
  {
   "cell_type": "markdown",
   "id": "b6d3c019-b6bb-4c4a-adbc-2e9c349ee5f8",
   "metadata": {},
   "source": [
    "## Luka Zekanoivc"
   ]
  },
  {
   "cell_type": "code",
   "execution_count": 1,
   "id": "230b040d-313e-4098-830d-8a543c8a1e7e",
   "metadata": {},
   "outputs": [],
   "source": [
    "import random\n",
    "\n",
    "nums = [random.randint(30, 100) for _ in range(40)]"
   ]
  },
  {
   "cell_type": "code",
   "execution_count": 3,
   "id": "0b521be7-058b-4699-bc9e-39ad149d89cb",
   "metadata": {},
   "outputs": [
    {
     "name": "stdout",
     "output_type": "stream",
     "text": [
      "30 33 36 38 43 46 47 50 50 51 51 52 52 52 54 54 56 62 62 64 65 65 65 72 74 75 76 76 80 81 84 85 86 91 92 94 96 96 98 98 "
     ]
    }
   ],
   "source": [
    "nums.sort()\n",
    "for number in nums:\n",
    "    print(number, end=' ')"
   ]
  },
  {
   "cell_type": "markdown",
   "id": "7b59a24c-0be9-4919-919b-492ecaafaa32",
   "metadata": {},
   "source": [
    "## The Sample Mean\n",
    "1. Make sure to add up all the values that are in your list\n",
    "2. Divide the sum of all the values by the totalnumber of values in the list\n",
    "3. The number you get is your sample mean"
   ]
  },
  {
   "cell_type": "markdown",
   "id": "d3627d74-ea6d-4e4d-bc40-4ac003953312",
   "metadata": {},
   "source": [
    "## Formula\n",
    "x̄=(Σ xi)/n"
   ]
  },
  {
   "cell_type": "code",
   "execution_count": 5,
   "id": "7c2836ed-adef-495d-af7b-32525a489f72",
   "metadata": {},
   "outputs": [
    {
     "name": "stdout",
     "output_type": "stream",
     "text": [
      "The sample Mean is: 65.80\n"
     ]
    }
   ],
   "source": [
    "sample_mean = sum(nums) / len(nums)\n",
    "print(f\"The sample Mean is: {sample_mean:.2f}\")"
   ]
  },
  {
   "cell_type": "markdown",
   "id": "f96563c9-6e38-4056-ad44-7a502f28b472",
   "metadata": {},
   "source": [
    "## The Median\n",
    "https://www.khanacademy.org/math/statistics-probability/summarizing-quantitative-data/mean-median-basics/a/mean-median-and-mode-review#:~:text=Finding%20the%20median&text=To%20find%20the%20median%3A,data%20points%20in%20the%20list."
   ]
  },
  {
   "cell_type": "code",
   "execution_count": 7,
   "id": "3a966ad9-ea53-40ca-970d-7df1fcfdad79",
   "metadata": {},
   "outputs": [
    {
     "name": "stdout",
     "output_type": "stream",
     "text": [
      "The median of this data set is: 64.5\n"
     ]
    }
   ],
   "source": [
    "#To calculate the median for even number of values you need to find the two middle values in the list \n",
    "#and then add them together and then divide by 2 to get the median\n",
    "#Use this formula to help find the median: (n/2-1) + (n/2) / 2\n",
    "\n",
    "length = len(nums)\n",
    "median = (nums[length // 2 - 1] + nums[length // 2]) / 2\n",
    "print(f\"The median of this data set is: {median:.1f}\")\n"
   ]
  },
  {
   "cell_type": "code",
   "execution_count": null,
   "id": "1a01fecd-77e0-4133-9fb8-8dc9129068c9",
   "metadata": {},
   "outputs": [],
   "source": []
  }
 ],
 "metadata": {
  "kernelspec": {
   "display_name": "Python 3 (ipykernel)",
   "language": "python",
   "name": "python3"
  },
  "language_info": {
   "codemirror_mode": {
    "name": "ipython",
    "version": 3
   },
   "file_extension": ".py",
   "mimetype": "text/x-python",
   "name": "python",
   "nbconvert_exporter": "python",
   "pygments_lexer": "ipython3",
   "version": "3.12.4"
  }
 },
 "nbformat": 4,
 "nbformat_minor": 5
}
